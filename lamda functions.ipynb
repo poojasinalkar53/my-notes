{
 "cells": [
  {
   "cell_type": "code",
   "execution_count": 5,
   "id": "1b2965bd",
   "metadata": {},
   "outputs": [
    {
     "name": "stdout",
     "output_type": "stream",
     "text": [
      "1\n",
      "1\n",
      "1\n",
      "2\n",
      "[[0, 1, 1], [1, 0, 1], [1, 1, 0]]\n"
     ]
    }
   ],
   "source": [
    "x = int(input())\n",
    "y = int(input())\n",
    "z = int(input())\n",
    "n = int(input())\n",
    "    \n",
    "print([[a,b,c] for a in range(x+1) for b in range(y+1) for c in range(z+1) if (a+b+c)== n])\n",
    "    "
   ]
  },
  {
   "cell_type": "markdown",
   "id": "dbefce31",
   "metadata": {},
   "source": [
    "# functions : built in functions and user defined functions"
   ]
  },
  {
   "cell_type": "markdown",
   "id": "69b30c6a",
   "metadata": {},
   "source": [
    "# Lambda function : anonymous function :-function which have no function"
   ]
  },
  {
   "cell_type": "markdown",
   "id": "11b060c4",
   "metadata": {},
   "source": [
    "# write a program to filter out positive numbers:"
   ]
  },
  {
   "cell_type": "code",
   "execution_count": 4,
   "id": "5b26f2ed",
   "metadata": {},
   "outputs": [],
   "source": [
    "def filterpose(value):\n",
    "    if(value > 0):\n",
    "        return filterpose"
   ]
  },
  {
   "cell_type": "code",
   "execution_count": 6,
   "id": "9191537f",
   "metadata": {},
   "outputs": [
    {
     "name": "stdout",
     "output_type": "stream",
     "text": [
      "[1, 2, 3, 4, 5, 6, 7, 8, 9]\n"
     ]
    }
   ],
   "source": [
    "l = range(-10,10)\n",
    "fil_p = list(filter(filterpose,l))\n",
    "print(fil_p)"
   ]
  },
  {
   "cell_type": "code",
   "execution_count": 9,
   "id": "0ae3ec8b",
   "metadata": {},
   "outputs": [
    {
     "name": "stdout",
     "output_type": "stream",
     "text": [
      "[1, 2, 3, 4, 5, 6, 7, 8, 9]\n"
     ]
    }
   ],
   "source": [
    "fill_p = list(filter(lambda value : value > 0 , l)) # lambda fun saves the memory space than user defined function\n",
    "print(fill_p)"
   ]
  },
  {
   "cell_type": "code",
   "execution_count": 10,
   "id": "3c727f91",
   "metadata": {},
   "outputs": [
    {
     "name": "stdout",
     "output_type": "stream",
     "text": [
      "[2, 4, 6, 8]\n"
     ]
    }
   ],
   "source": [
    "fill_p1 = list(filter(lambda value : value > 0 and value%2 == 0 , l)) # lambda fun saves the memory space than user defined function\n",
    "print(fill_p1)"
   ]
  },
  {
   "cell_type": "code",
   "execution_count": 6,
   "id": "d185459e",
   "metadata": {},
   "outputs": [],
   "source": [
    "# map : tranformation\n",
    "# map(function_name,variable)\n",
    "\n",
    "def cube(c):\n",
    "    return (c**3)"
   ]
  },
  {
   "cell_type": "code",
   "execution_count": 7,
   "id": "78d02134",
   "metadata": {},
   "outputs": [
    {
     "name": "stdout",
     "output_type": "stream",
     "text": [
      "[1, 8, 27, 64, 125]\n"
     ]
    }
   ],
   "source": [
    "v = range(1,6)\n",
    "c_opt = list(map(cube,v))\n",
    "print(c_opt)"
   ]
  },
  {
   "cell_type": "code",
   "execution_count": 17,
   "id": "59dd0980",
   "metadata": {},
   "outputs": [
    {
     "name": "stdout",
     "output_type": "stream",
     "text": [
      "[1, 8, 27, 64, 125]\n"
     ]
    }
   ],
   "source": [
    "c_opt1 = list(map(lambda c:c**3,v))\n",
    "print(c_opt1)"
   ]
  },
  {
   "cell_type": "code",
   "execution_count": 2,
   "id": "cec35360",
   "metadata": {},
   "outputs": [],
   "source": [
    "from functools import reduce "
   ]
  },
  {
   "cell_type": "code",
   "execution_count": 3,
   "id": "b4b49476",
   "metadata": {},
   "outputs": [],
   "source": [
    "#reduce(fun_name,variable)\n",
    "def agg(x,y):\n",
    "    return(x+y)"
   ]
  },
  {
   "cell_type": "code",
   "execution_count": 9,
   "id": "09eb27ea",
   "metadata": {},
   "outputs": [
    {
     "name": "stdout",
     "output_type": "stream",
     "text": [
      "225\n",
      "225\n"
     ]
    }
   ],
   "source": [
    "agg_opt = reduce(agg,c_opt)\n",
    "agg_opt1 = reduce(lambda x,y : x+y, c_opt)\n",
    "print(agg_opt)\n",
    "print(agg_opt1)\n"
   ]
  },
  {
   "cell_type": "code",
   "execution_count": 22,
   "id": "f14d310e",
   "metadata": {},
   "outputs": [],
   "source": [
    "# file IO :\n",
    "import os\n"
   ]
  },
  {
   "cell_type": "code",
   "execution_count": 23,
   "id": "4673ce34",
   "metadata": {},
   "outputs": [
    {
     "data": {
      "text/plain": [
       "'C:\\\\Users\\\\pooja sinalkar'"
      ]
     },
     "execution_count": 23,
     "metadata": {},
     "output_type": "execute_result"
    }
   ],
   "source": [
    "os.getcwd()"
   ]
  },
  {
   "cell_type": "code",
   "execution_count": 31,
   "id": "9247ea39",
   "metadata": {},
   "outputs": [],
   "source": [
    "file = open(\"C:\\\\Users\\\\pooja sinalkar\\\\Downloads\\\\stock_list.csv\")"
   ]
  },
  {
   "cell_type": "code",
   "execution_count": 33,
   "id": "058ab46a",
   "metadata": {},
   "outputs": [],
   "source": [
    "#file.readlines()\n",
    "file.readline()\n",
    "file.close()"
   ]
  },
  {
   "cell_type": "code",
   "execution_count": 34,
   "id": "9c1f068c",
   "metadata": {},
   "outputs": [],
   "source": [
    "w1 = open('C:\\\\Users\\\\pooja sinalkar\\\\Downloads\\\\data.text','w')\n",
    "w1.write(\"This file is created \\n to check \\n file IO op.\")\n",
    "w1.close()"
   ]
  },
  {
   "cell_type": "code",
   "execution_count": 35,
   "id": "e9d0e1cd",
   "metadata": {},
   "outputs": [],
   "source": [
    "w2 = open('C:\\\\Users\\\\pooja sinalkar\\\\Downloads\\\\data.text','a')\n",
    "w2.write('\\n This is new data using append')\n",
    "w2.close()"
   ]
  },
  {
   "cell_type": "code",
   "execution_count": 37,
   "id": "2b71a6a2",
   "metadata": {},
   "outputs": [],
   "source": [
    "#os.chdir(\"C:\\\\Users\\\\pooja sinalkar\\\\Desktop\\\\data.text\")"
   ]
  },
  {
   "cell_type": "code",
   "execution_count": 39,
   "id": "3a9e1009",
   "metadata": {},
   "outputs": [],
   "source": [
    "import shutil"
   ]
  },
  {
   "cell_type": "code",
   "execution_count": 40,
   "id": "fd0f96ac",
   "metadata": {},
   "outputs": [],
   "source": [
    "os.chmod('C:\\\\Users\\\\pooja sinalkar\\\\Downloads\\\\data.text',640)"
   ]
  },
  {
   "cell_type": "code",
   "execution_count": 41,
   "id": "8f04ba00",
   "metadata": {},
   "outputs": [
    {
     "name": "stdout",
     "output_type": "stream",
     "text": [
      "['ArithmeticError', 'AssertionError', 'AttributeError', 'BaseException', 'BlockingIOError', 'BrokenPipeError', 'BufferError', 'BytesWarning', 'ChildProcessError', 'ConnectionAbortedError', 'ConnectionError', 'ConnectionRefusedError', 'ConnectionResetError', 'DeprecationWarning', 'EOFError', 'Ellipsis', 'EnvironmentError', 'Exception', 'False', 'FileExistsError', 'FileNotFoundError', 'FloatingPointError', 'FutureWarning', 'GeneratorExit', 'IOError', 'ImportError', 'ImportWarning', 'IndentationError', 'IndexError', 'InterruptedError', 'IsADirectoryError', 'KeyError', 'KeyboardInterrupt', 'LookupError', 'MemoryError', 'ModuleNotFoundError', 'NameError', 'None', 'NotADirectoryError', 'NotImplemented', 'NotImplementedError', 'OSError', 'OverflowError', 'PendingDeprecationWarning', 'PermissionError', 'ProcessLookupError', 'RecursionError', 'ReferenceError', 'ResourceWarning', 'RuntimeError', 'RuntimeWarning', 'StopAsyncIteration', 'StopIteration', 'SyntaxError', 'SyntaxWarning', 'SystemError', 'SystemExit', 'TabError', 'TimeoutError', 'True', 'TypeError', 'UnboundLocalError', 'UnicodeDecodeError', 'UnicodeEncodeError', 'UnicodeError', 'UnicodeTranslateError', 'UnicodeWarning', 'UserWarning', 'ValueError', 'Warning', 'WindowsError', 'ZeroDivisionError', '__IPYTHON__', '__build_class__', '__debug__', '__doc__', '__import__', '__loader__', '__name__', '__package__', '__spec__', 'abs', 'all', 'any', 'ascii', 'bin', 'bool', 'breakpoint', 'bytearray', 'bytes', 'callable', 'chr', 'classmethod', 'compile', 'complex', 'copyright', 'credits', 'delattr', 'dict', 'dir', 'display', 'divmod', 'enumerate', 'eval', 'exec', 'filter', 'float', 'format', 'frozenset', 'get_ipython', 'getattr', 'globals', 'hasattr', 'hash', 'help', 'hex', 'id', 'input', 'int', 'isinstance', 'issubclass', 'iter', 'len', 'license', 'list', 'locals', 'map', 'max', 'memoryview', 'min', 'next', 'object', 'oct', 'open', 'ord', 'pow', 'print', 'property', 'range', 'repr', 'reversed', 'round', 'set', 'setattr', 'slice', 'sorted', 'staticmethod', 'str', 'sum', 'super', 'tuple', 'type', 'vars', 'zip']\n"
     ]
    }
   ],
   "source": [
    "print(dir(__builtins__))"
   ]
  },
  {
   "cell_type": "code",
   "execution_count": 43,
   "id": "cab2e134",
   "metadata": {},
   "outputs": [
    {
     "name": "stdout",
     "output_type": "stream",
     "text": [
      "Element is :  10.9\n",
      "Converted value is : 10\n",
      "None can be divided by 0\n",
      "Element is :  nine\n",
      "<class 'ValueError'>\n",
      "Element is :  7.3\n",
      "Converted value is : 7\n",
      "None can be divided by 0\n",
      "Element is :  19\n",
      "Converted value is : 19\n",
      "None can be divided by 0\n"
     ]
    }
   ],
   "source": [
    "import sys\n",
    "d = [10.9, 'nine', 7.3, 19]\n",
    "\n",
    "for i in d:\n",
    "    try:\n",
    "        print(\"Element is : \", i)\n",
    "        c_int = int(i)\n",
    "        print(\"Converted value is :\", c_int)\n",
    "        div = (c_int/0)\n",
    "    except(ValueError):\n",
    "        print(sys.exc_info()[0])\n",
    "    except(ZeroDivisionError):\n",
    "        print(\"None can be divided by 0\")\n",
    "    except:\n",
    "        print(\"Other error\")"
   ]
  },
  {
   "cell_type": "code",
   "execution_count": null,
   "id": "e78b32ea",
   "metadata": {},
   "outputs": [],
   "source": []
  }
 ],
 "metadata": {
  "kernelspec": {
   "display_name": "Python 3 (ipykernel)",
   "language": "python",
   "name": "python3"
  },
  "language_info": {
   "codemirror_mode": {
    "name": "ipython",
    "version": 3
   },
   "file_extension": ".py",
   "mimetype": "text/x-python",
   "name": "python",
   "nbconvert_exporter": "python",
   "pygments_lexer": "ipython3",
   "version": "3.9.12"
  }
 },
 "nbformat": 4,
 "nbformat_minor": 5
}
